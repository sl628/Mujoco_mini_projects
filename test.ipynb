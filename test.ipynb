{
 "cells": [
  {
   "cell_type": "code",
   "execution_count": 1,
   "id": "9362381c",
   "metadata": {},
   "outputs": [],
   "source": [
    "import mujoco\n",
    "import numpy as np\n",
    "import matplotlib.pyplot as plt\n",
    "import imageio\n",
    "\n",
    "# ----------------------------\n",
    "# 1. Define a tiny MuJoCo XML\n",
    "# ----------------------------\n",
    "BALL_XML = \"\"\"\n",
    "<mujoco model=\"ball_drop\">\n",
    "  <option timestep=\"0.01\" gravity=\"0 0 -9.81\"/>\n",
    "  <worldbody>\n",
    "    <!-- Ground plane -->\n",
    "    <geom name=\"floor\" type=\"plane\" size=\"2 2 0.1\" rgba=\"0.7 0.9 0.7 1\"/>\n",
    "    \n",
    "    <!-- Ball -->\n",
    "    <body name=\"ball\" pos=\"0 0 1\">\n",
    "      <freejoint/>\n",
    "      <geom type=\"sphere\" size=\"0.05\" rgba=\"0.9 0.2 0.2 1\" density=\"1000\"/>\n",
    "    </body>\n",
    "  </worldbody>\n",
    "</mujoco>\n",
    "\"\"\""
   ]
  },
  {
   "cell_type": "code",
   "execution_count": 2,
   "id": "542ec54e",
   "metadata": {},
   "outputs": [
    {
     "name": "stdout",
     "output_type": "stream",
     "text": [
      "Number of joints: 1\n",
      "Initial ball position (z): 1.0\n"
     ]
    }
   ],
   "source": [
    "# ----------------------------\n",
    "# 2. Load model and data\n",
    "# ----------------------------\n",
    "model = mujoco.MjModel.from_xml_string(BALL_XML)\n",
    "data = mujoco.MjData(model)\n",
    "\n",
    "print(\"Number of joints:\", model.njnt)\n",
    "print(\"Initial ball position (z):\", data.qpos[2])\n"
   ]
  },
  {
   "cell_type": "code",
   "execution_count": null,
   "id": "5270d538",
   "metadata": {},
   "outputs": [],
   "source": [
    "\n",
    "# ----------------------------\n",
    "# 3. Step the physics\n",
    "# ----------------------------\n",
    "frames = []\n",
    "for step in range(150):\n",
    "    mujoco.mj_step(model, data)   # advance simulation\n",
    "    \n",
    "    # Render RGB frame (headless)\n",
    "    width, height = 320, 240\n",
    "    rgb = np.zeros((height, width, 3), dtype=np.uint8)\n",
    "    depth = np.zeros((height, width), dtype=np.float32)\n",
    "\n",
    "    cam = mujoco.MjvCamera()\n",
    "    opt = mujoco.MjvOption()\n",
    "    scn = mujoco.MjvScene(model, 2000)\n",
    "    con = mujoco.MjrContext(model, mujoco.mjtFontScale.mjFONTSCALE_150.value)\n",
    "\n",
    "    cam.lookat[:] = [0, 0, 0.5]   # camera target\n",
    "    cam.distance = 1.5\n",
    "    cam.azimuth = 90\n",
    "    cam.elevation = -20\n",
    "\n",
    "    mujoco.mjv_updateScene(model, data, opt, None, cam,\n",
    "                           mujoco.mjtCatBit.mjCAT_ALL.value, scn)\n",
    "    mujoco.mjr_render(mujoco.MjrRect(0, 0, width, height), scn, con)\n",
    "    mujoco.mjr_readPixels(rgb, depth, mujoco.MjrRect(0, 0, width, height), con)\n",
    "\n",
    "    mujoco.mjr_freeContext(con)\n",
    "    scn.free()\n",
    "\n",
    "    frames.append(np.flipud(rgb))  # flip vertically\n",
    "\n",
    "# ----------------------------\n",
    "# 4. Show last frame inline\n",
    "# ----------------------------\n",
    "plt.imshow(frames[-])\n",
    "plt.axis(\"off\")\n",
    "plt.show()\n",
    "\n",
    "# ----------------------------\n",
    "# 5. Save as GIF\n",
    "# ----------------------------\n",
    "imageio.mimsave(\"ball_drop.gif\", frames, fps=30)\n",
    "print(\"Saved GIF: ball_drop.gif\")\n"
   ]
  },
  {
   "cell_type": "code",
   "execution_count": null,
   "id": "bed279f5",
   "metadata": {},
   "outputs": [],
   "source": []
  }
 ],
 "metadata": {
  "kernelspec": {
   "display_name": "mujoco-env",
   "language": "python",
   "name": "python3"
  },
  "language_info": {
   "codemirror_mode": {
    "name": "ipython",
    "version": 3
   },
   "file_extension": ".py",
   "mimetype": "text/x-python",
   "name": "python",
   "nbconvert_exporter": "python",
   "pygments_lexer": "ipython3",
   "version": "3.10.18"
  }
 },
 "nbformat": 4,
 "nbformat_minor": 5
}
